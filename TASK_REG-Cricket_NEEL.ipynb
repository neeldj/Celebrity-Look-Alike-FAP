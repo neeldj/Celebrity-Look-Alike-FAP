{
 "cells": [
  {
   "cell_type": "markdown",
   "id": "5d9c2d95-0601-4c05-804b-68b0b54c0185",
   "metadata": {},
   "source": [
    "# TASK: REG-Cricket by NEEL D JADIA\n",
    "## 1. Importing Pandas and Reading the given CSV File"
   ]
  },
  {
   "cell_type": "code",
   "execution_count": 1,
   "id": "a81504ac-a455-4b19-bbef-de5aac50327e",
   "metadata": {
    "scrolled": true
   },
   "outputs": [
    {
     "data": {
      "text/html": [
       "<div>\n",
       "<style scoped>\n",
       "    .dataframe tbody tr th:only-of-type {\n",
       "        vertical-align: middle;\n",
       "    }\n",
       "\n",
       "    .dataframe tbody tr th {\n",
       "        vertical-align: top;\n",
       "    }\n",
       "\n",
       "    .dataframe thead th {\n",
       "        text-align: right;\n",
       "    }\n",
       "</style>\n",
       "<table border=\"1\" class=\"dataframe\">\n",
       "  <thead>\n",
       "    <tr style=\"text-align: right;\">\n",
       "      <th></th>\n",
       "      <th>Player</th>\n",
       "      <th>Mat</th>\n",
       "      <th>Inns</th>\n",
       "      <th>NO</th>\n",
       "      <th>Runs</th>\n",
       "      <th>HS</th>\n",
       "      <th>Avg</th>\n",
       "      <th>BF</th>\n",
       "      <th>SR</th>\n",
       "      <th>100</th>\n",
       "      <th>50</th>\n",
       "      <th>4s</th>\n",
       "    </tr>\n",
       "  </thead>\n",
       "  <tbody>\n",
       "    <tr>\n",
       "      <th>0</th>\n",
       "      <td>Jos Buttler</td>\n",
       "      <td>17</td>\n",
       "      <td>17</td>\n",
       "      <td>2</td>\n",
       "      <td>863</td>\n",
       "      <td>116</td>\n",
       "      <td>57.53</td>\n",
       "      <td>579</td>\n",
       "      <td>149.05</td>\n",
       "      <td>4</td>\n",
       "      <td>4</td>\n",
       "      <td>83</td>\n",
       "    </tr>\n",
       "    <tr>\n",
       "      <th>1</th>\n",
       "      <td>K L Rahul</td>\n",
       "      <td>15</td>\n",
       "      <td>15</td>\n",
       "      <td>3</td>\n",
       "      <td>616</td>\n",
       "      <td>103*</td>\n",
       "      <td>51.33</td>\n",
       "      <td>455</td>\n",
       "      <td>135.38</td>\n",
       "      <td>2</td>\n",
       "      <td>4</td>\n",
       "      <td>45</td>\n",
       "    </tr>\n",
       "    <tr>\n",
       "      <th>2</th>\n",
       "      <td>Quinton De Kock</td>\n",
       "      <td>15</td>\n",
       "      <td>15</td>\n",
       "      <td>1</td>\n",
       "      <td>508</td>\n",
       "      <td>140*</td>\n",
       "      <td>36.29</td>\n",
       "      <td>341</td>\n",
       "      <td>148.97</td>\n",
       "      <td>1</td>\n",
       "      <td>3</td>\n",
       "      <td>47</td>\n",
       "    </tr>\n",
       "    <tr>\n",
       "      <th>3</th>\n",
       "      <td>Hardik Pandya</td>\n",
       "      <td>15</td>\n",
       "      <td>15</td>\n",
       "      <td>4</td>\n",
       "      <td>487</td>\n",
       "      <td>87*</td>\n",
       "      <td>44.27</td>\n",
       "      <td>371</td>\n",
       "      <td>131.26</td>\n",
       "      <td>0</td>\n",
       "      <td>4</td>\n",
       "      <td>49</td>\n",
       "    </tr>\n",
       "    <tr>\n",
       "      <th>4</th>\n",
       "      <td>Shubman Gill</td>\n",
       "      <td>16</td>\n",
       "      <td>16</td>\n",
       "      <td>2</td>\n",
       "      <td>483</td>\n",
       "      <td>96</td>\n",
       "      <td>34.5</td>\n",
       "      <td>365</td>\n",
       "      <td>132.32</td>\n",
       "      <td>0</td>\n",
       "      <td>4</td>\n",
       "      <td>51</td>\n",
       "    </tr>\n",
       "    <tr>\n",
       "      <th>...</th>\n",
       "      <td>...</td>\n",
       "      <td>...</td>\n",
       "      <td>...</td>\n",
       "      <td>...</td>\n",
       "      <td>...</td>\n",
       "      <td>...</td>\n",
       "      <td>...</td>\n",
       "      <td>...</td>\n",
       "      <td>...</td>\n",
       "      <td>...</td>\n",
       "      <td>...</td>\n",
       "      <td>...</td>\n",
       "    </tr>\n",
       "    <tr>\n",
       "      <th>157</th>\n",
       "      <td>Fazalhaq Farooqi</td>\n",
       "      <td>3</td>\n",
       "      <td>1</td>\n",
       "      <td>1</td>\n",
       "      <td>2</td>\n",
       "      <td>2*</td>\n",
       "      <td>-</td>\n",
       "      <td>8</td>\n",
       "      <td>25.00</td>\n",
       "      <td>0</td>\n",
       "      <td>0</td>\n",
       "      <td>0</td>\n",
       "    </tr>\n",
       "    <tr>\n",
       "      <th>158</th>\n",
       "      <td>Jagadeesha Suchith</td>\n",
       "      <td>5</td>\n",
       "      <td>2</td>\n",
       "      <td>0</td>\n",
       "      <td>2</td>\n",
       "      <td>2</td>\n",
       "      <td>1</td>\n",
       "      <td>8</td>\n",
       "      <td>25.00</td>\n",
       "      <td>0</td>\n",
       "      <td>0</td>\n",
       "      <td>0</td>\n",
       "    </tr>\n",
       "    <tr>\n",
       "      <th>159</th>\n",
       "      <td>Tim Southee</td>\n",
       "      <td>9</td>\n",
       "      <td>5</td>\n",
       "      <td>1</td>\n",
       "      <td>2</td>\n",
       "      <td>1*</td>\n",
       "      <td>0.5</td>\n",
       "      <td>12</td>\n",
       "      <td>16.66</td>\n",
       "      <td>0</td>\n",
       "      <td>0</td>\n",
       "      <td>0</td>\n",
       "    </tr>\n",
       "    <tr>\n",
       "      <th>160</th>\n",
       "      <td>Nathan Coulter-Nile</td>\n",
       "      <td>1</td>\n",
       "      <td>1</td>\n",
       "      <td>1</td>\n",
       "      <td>1</td>\n",
       "      <td>1*</td>\n",
       "      <td>-</td>\n",
       "      <td>2</td>\n",
       "      <td>50.00</td>\n",
       "      <td>0</td>\n",
       "      <td>0</td>\n",
       "      <td>0</td>\n",
       "    </tr>\n",
       "    <tr>\n",
       "      <th>161</th>\n",
       "      <td>Anrich Nortje</td>\n",
       "      <td>6</td>\n",
       "      <td>1</td>\n",
       "      <td>1</td>\n",
       "      <td>1</td>\n",
       "      <td>1*</td>\n",
       "      <td>-</td>\n",
       "      <td>6</td>\n",
       "      <td>16.66</td>\n",
       "      <td>0</td>\n",
       "      <td>0</td>\n",
       "      <td>0</td>\n",
       "    </tr>\n",
       "  </tbody>\n",
       "</table>\n",
       "<p>162 rows × 12 columns</p>\n",
       "</div>"
      ],
      "text/plain": [
       "                  Player  Mat  Inns  NO  Runs    HS    Avg   BF      SR  100  \\\n",
       "0            Jos Buttler   17    17   2   863   116  57.53  579  149.05    4   \n",
       "1              K L Rahul   15    15   3   616  103*  51.33  455  135.38    2   \n",
       "2        Quinton De Kock   15    15   1   508  140*  36.29  341  148.97    1   \n",
       "3          Hardik Pandya   15    15   4   487   87*  44.27  371  131.26    0   \n",
       "4           Shubman Gill   16    16   2   483    96   34.5  365  132.32    0   \n",
       "..                   ...  ...   ...  ..   ...   ...    ...  ...     ...  ...   \n",
       "157     Fazalhaq Farooqi    3     1   1     2    2*      -    8   25.00    0   \n",
       "158   Jagadeesha Suchith    5     2   0     2     2      1    8   25.00    0   \n",
       "159          Tim Southee    9     5   1     2    1*    0.5   12   16.66    0   \n",
       "160  Nathan Coulter-Nile    1     1   1     1    1*      -    2   50.00    0   \n",
       "161        Anrich Nortje    6     1   1     1    1*      -    6   16.66    0   \n",
       "\n",
       "     50  4s  \n",
       "0     4  83  \n",
       "1     4  45  \n",
       "2     3  47  \n",
       "3     4  49  \n",
       "4     4  51  \n",
       "..   ..  ..  \n",
       "157   0   0  \n",
       "158   0   0  \n",
       "159   0   0  \n",
       "160   0   0  \n",
       "161   0   0  \n",
       "\n",
       "[162 rows x 12 columns]"
      ]
     },
     "execution_count": 1,
     "metadata": {},
     "output_type": "execute_result"
    }
   ],
   "source": [
    "import pandas as pd\n",
    "\n",
    "df = pd.read_csv(\"IPL 2022 Batters.csv\")\n",
    "df                                               "
   ]
  },
  {
   "cell_type": "markdown",
   "id": "5bc8b79b-d238-4574-9cd3-bd2dc47eb0d4",
   "metadata": {},
   "source": [
    "## 2. Dealing with Null Values in Data"
   ]
  },
  {
   "cell_type": "code",
   "execution_count": 2,
   "id": "0bf3acb5-e21a-4008-8149-acb0136474da",
   "metadata": {},
   "outputs": [
    {
     "name": "stdout",
     "output_type": "stream",
     "text": [
      "                 Player  Mat  Inns  NO  Runs    HS    Avg   BF      SR  100  \\\n",
      "0           Jos Buttler   17    17   2   863   116  57.53  579  149.05    4   \n",
      "1             K L Rahul   15    15   3   616  103*  51.33  455  135.38    2   \n",
      "2       Quinton De Kock   15    15   1   508  140*  36.29  341  148.97    1   \n",
      "3         Hardik Pandya   15    15   4   487   87*  44.27  371  131.26    0   \n",
      "4          Shubman Gill   16    16   2   483    96   34.5  365  132.32    0   \n",
      "..                  ...  ...   ...  ..   ...   ...    ...  ...     ...  ...   \n",
      "154       Navdeep Saini    2     1   0     2     2      2    2  100.00    0   \n",
      "155      Tristan Stubbs    2     2   0     2     2      1    4   50.00    0   \n",
      "156     Pradeep Sangwan    3     1   0     2     2      2    5   40.00    0   \n",
      "158  Jagadeesha Suchith    5     2   0     2     2      1    8   25.00    0   \n",
      "159         Tim Southee    9     5   1     2    1*    0.5   12   16.66    0   \n",
      "\n",
      "     50  4s  \n",
      "0     4  83  \n",
      "1     4  45  \n",
      "2     3  47  \n",
      "3     4  49  \n",
      "4     4  51  \n",
      "..   ..  ..  \n",
      "154   0   0  \n",
      "155   0   0  \n",
      "156   0   0  \n",
      "158   0   0  \n",
      "159   0   0  \n",
      "\n",
      "[154 rows x 12 columns] 154\n"
     ]
    }
   ],
   "source": [
    "dfcopy = df.copy()                                   # Creating a copy, so that we don't interfere with the original dataframe.\n",
    "rows = len(df.axes[0])                               # No. of Rows in the original data frame.\n",
    "cols = len(df.axes[1])                               # No. of Columns in the original data frame.\n",
    "i=0                                                  #[code\n",
    "while i < cols :                                     # for\n",
    "    j=0                                              # dropping\n",
    "    while j < rows :                                 # the \n",
    "        if df.iloc[j,i] == '-' :                     # null\n",
    "            dfcopy = dfcopy.drop(df.index[j])        # values\n",
    "        j += 1                                       # in\n",
    "    i +=1                                            # given\n",
    "dfcopy = dfcopy.dropna()                             # data.]\n",
    "print(dfcopy,len(dfcopy.axes[0]))                    # printing the new data frame and no. of rows after dropping null values"
   ]
  },
  {
   "cell_type": "markdown",
   "id": "ce6a8216-960f-400e-ba87-ff9ee705a53b",
   "metadata": {},
   "source": [
    "## 3. Plotting Scatter Plot between Runs v/s Fours and Strike Rate v/s Fours"
   ]
  },
  {
   "cell_type": "code",
   "execution_count": 3,
   "id": "2e5abb80-aff2-469c-afcb-a5371c3da268",
   "metadata": {},
   "outputs": [
    {
     "data": {
      "image/png": "[encoded data removed]",
      "text/plain": [
       "<Figure size 640x480 with 1 Axes>"
      ]
     },
     "metadata": {},
     "output_type": "display_data"
    },
    {
     "data": {
      "image/png": "[encoded data removed]",
      "text/plain": [
       "<Figure size 640x480 with 1 Axes>"
      ]
     },
     "metadata": {},
     "output_type": "display_data"
    }
   ],
   "source": [
    "import matplotlib.pyplot as plt                                       # importing matplotlib\n",
    "plt.scatter(dfcopy['4s'], dfcopy['Runs'],c=\"red\",s=5)                 # [plotting\n",
    "plt.ylabel('Runs')                                                    #  Runs\n",
    "plt.xlabel('4s')                                                      #  v/s\n",
    "plt.title('Correlation between Total Runs and Number of Fours')       #  number of\n",
    "plt.show()                                                            #  fours.]\n",
    "                                                                      #\n",
    "plt.scatter(dfcopy['4s'], dfcopy['SR'],s=5)                           # [plotting\n",
    "plt.ylabel('SR')                                                      #  Strike\n",
    "plt.xlabel('4s')                                                      #  Rate\n",
    "plt.title('Correlation between Strike Rate and Number of Fours')      #  v/s\n",
    "plt.show()                                                            #  fours.]\n"
   ]
  },
  {
   "cell_type": "markdown",
   "id": "783abc55-c812-489b-8739-98dcb75d0899",
   "metadata": {},
   "source": [
    "## 4. Single Linear Regression on 4s"
   ]
  },
  {
   "cell_type": "code",
   "execution_count": 4,
   "id": "e9b99089-b3d8-486d-954b-c91eefb68003",
   "metadata": {},
   "outputs": [
    {
     "name": "stdout",
     "output_type": "stream",
     "text": [
      "[26.87029919]\n",
      "[17.34391156]\n"
     ]
    },
    {
     "name": "stderr",
     "output_type": "stream",
     "text": [
      "C:\\Users\\thetr\\AppData\\Local\\Packages\\PythonSoftwareFoundation.Python.3.11_qbz5n2kfra8p0\\LocalCache\\local-packages\\Python311\\site-packages\\sklearn\\base.py:465: UserWarning: X does not have valid feature names, but LinearRegression was fitted with feature names\n",
      "  warnings.warn(\n",
      "C:\\Users\\thetr\\AppData\\Local\\Packages\\PythonSoftwareFoundation.Python.3.11_qbz5n2kfra8p0\\LocalCache\\local-packages\\Python311\\site-packages\\sklearn\\base.py:465: UserWarning: X does not have valid feature names, but LinearRegression was fitted with feature names\n",
      "  warnings.warn(\n"
     ]
    }
   ],
   "source": [
    "from sklearn import linear_model\n",
    "import numpy as np\n",
    "\n",
    "reg_Runs = linear_model.LinearRegression()             #linear regression on 4s where independent variable is Runs\n",
    "reg_Runs.fit(dfcopy[['Runs']],dfcopy['4s'])\n",
    "print(reg_Runs.predict([[300]]))                              #example predicting fours if runs are 300.\n",
    "\n",
    "reg_SR = linear_model.LinearRegression()               #linear regression on 4s where independent variable is Strike Rate\n",
    "reg_SR.fit(dfcopy[['SR']],dfcopy['4s'])\n",
    "print(reg_SR.predict([[150]]))                                #example predicting fours if strike rate is 150."
   ]
  },
  {
   "cell_type": "markdown",
   "id": "9cfad744-9b12-4386-bbd3-ef14cabbb66a",
   "metadata": {},
   "source": [
    "## 5. Creating two Dataframes one for Features and one for Target"
   ]
  },
  {
   "cell_type": "code",
   "execution_count": 5,
   "id": "fe385abf-3ef1-4633-9bf1-8144a5bd789b",
   "metadata": {},
   "outputs": [],
   "source": [
    "x = dfcopy[['Runs','Avg','BF','SR']]                        #Feautures\n",
    "y = dfcopy['4s']                                            #Target"
   ]
  },
  {
   "cell_type": "markdown",
   "id": "1008c7c3-260a-4fbd-9aec-97afe292166e",
   "metadata": {},
   "source": [
    "## 6. Splitting Datasets by train_test_split utility in sklearn"
   ]
  },
  {
   "cell_type": "code",
   "execution_count": 6,
   "id": "38fe3f1d-d3c7-4ad1-a620-fbaeead06437",
   "metadata": {},
   "outputs": [
    {
     "name": "stdout",
     "output_type": "stream",
     "text": [
      "x_train\n",
      "     Runs    Avg   BF      SR\n",
      "132     7      7    5  140.00\n",
      "47    206  22.89  129  159.68\n",
      "71     91  22.75   44  206.81\n",
      "57    161     23  113  142.47\n",
      "35    258   25.8  194  132.98\n",
      "..    ...    ...  ...     ...\n",
      "99     37   18.5   40   92.50\n",
      "115    19     19   11  172.72\n",
      "94     43   21.5   48   89.58\n",
      "138     6      6    6  100.00\n",
      "80     67   13.4   59  113.55\n",
      "\n",
      "[130 rows x 4 columns]\n",
      "x_test\n",
      "     Runs    Avg   BF      SR\n",
      "34    268  19.14  223  120.17\n",
      "91     44     11   28  157.14\n",
      "90     45   22.5   40  112.50\n",
      "36    253     23  175  144.57\n",
      "28    306  38.25  212  144.33\n",
      "92     43  10.75   28  153.57\n",
      "77     73  24.33   56  130.35\n",
      "46    216  19.64  231   93.50\n",
      "105    24      8   26   92.30\n",
      "81     63  15.75   24  262.50\n",
      "26    317   31.7  259  122.39\n",
      "79     69  17.25   47  146.80\n",
      "16    397  36.09  303  131.02\n",
      "101    33   16.5   50   66.00\n",
      "20    361  27.77  251  143.82\n",
      "15    401  30.85  298  134.56\n",
      "29    303  43.29  208  145.67\n",
      "108    23   5.75   26   88.46\n",
      "137     6      6    3  200.00\n",
      "85     55  13.75   40  137.50\n",
      "110    22     11   24   91.66\n",
      "9     451  32.21  330  136.66\n",
      "31    289   28.9  185  156.21\n",
      "84     58   9.67   44  131.81\n",
      "y_train\n",
      "132     0\n",
      "47     16\n",
      "71      3\n",
      "57     14\n",
      "35     28\n",
      "       ..\n",
      "99      4\n",
      "115     1\n",
      "94      5\n",
      "138     1\n",
      "80      7\n",
      "Name: 4s, Length: 130, dtype: int64\n",
      "y_test\n",
      "34     28\n",
      "91      3\n",
      "90      3\n",
      "36     34\n",
      "28     16\n",
      "92      3\n",
      "77      8\n",
      "46     16\n",
      "105     3\n",
      "81      5\n",
      "26     40\n",
      "79      5\n",
      "16     29\n",
      "101     1\n",
      "20     29\n",
      "15     41\n",
      "29     23\n",
      "108     0\n",
      "137     0\n",
      "85      4\n",
      "110     2\n",
      "9      36\n",
      "31     22\n",
      "84      2\n",
      "Name: 4s, dtype: int64\n"
     ]
    }
   ],
   "source": [
    "from sklearn.model_selection import train_test_split\n",
    "\n",
    "x_train, x_test, y_train, y_test = train_test_split(x, y, test_size=0.15)\n",
    "\n",
    "print('x_train')\n",
    "print(x_train)\n",
    "print('x_test')\n",
    "print(x_test)\n",
    "print('y_train')\n",
    "print(y_train)\n",
    "print('y_test')\n",
    "print(y_test)"
   ]
  },
  {
   "cell_type": "markdown",
   "id": "626aa25d-ed0d-46d4-b25f-7810ccd62799",
   "metadata": {},
   "source": [
    "## 7. Training Linear Regrresion model on train data and predicting values on test data"
   ]
  },
  {
   "cell_type": "code",
   "execution_count": 7,
   "id": "2fef5aaa-24cf-40d5-ab95-4b7da703de12",
   "metadata": {},
   "outputs": [
    {
     "name": "stdout",
     "output_type": "stream",
     "text": [
      "[26.44465066  3.27860407  2.44190674 22.90739169 26.41902434  3.23393732\n",
      "  4.90759823 23.00569587  2.06816181  3.99448276 29.95337082  5.10321727\n",
      " 36.98404135  2.6844504  33.22856904 37.68501741 25.43608985  2.26196769\n",
      "  0.15918714  4.22097481  1.48260912 42.43194462 25.1947921   5.08504734]\n"
     ]
    }
   ],
   "source": [
    "from sklearn.linear_model import LinearRegression\n",
    "\n",
    "reg2 = LinearRegression()\n",
    "reg2.fit(x_train,y_train)\n",
    "\n",
    "y_predicted = reg2.predict(x_test)\n",
    "print(y_predicted)"
   ]
  },
  {
   "cell_type": "markdown",
   "id": "d4909238-d47a-4a75-a714-9eaf70c8ddd6",
   "metadata": {},
   "source": [
    "## 8. Finding Mean Squared Error on train data predictions and test data predictions."
   ]
  },
  {
   "cell_type": "code",
   "execution_count": 8,
   "id": "842d303f-2726-47ca-9672-e3ea5c9a5cfc",
   "metadata": {},
   "outputs": [
    {
     "name": "stdout",
     "output_type": "stream",
     "text": [
      "Mean squared error on training data: 14.427424503635628\n",
      "Mean squared error on test data: 23.494653823894982\n"
     ]
    }
   ],
   "source": [
    "from sklearn.metrics import mean_squared_error\n",
    "                                                                                 # Calculating the mean squared error on the train data predictions\n",
    "mse_train = mean_squared_error(y_train, reg2.predict(x_train))\n",
    "                                                                                 # Calculating the mean squared error on the test data predictions\n",
    "mse_test = mean_squared_error(y_test, y_predicted)\n",
    "                                                                                 # Printing the mean squared errors\n",
    "print('Mean squared error on training data:', mse_train)\n",
    "print('Mean squared error on test data:', mse_test)\n"
   ]
  },
  {
   "cell_type": "markdown",
   "id": "a5df99b9-1ffa-419e-b8e0-68fda1d78467",
   "metadata": {},
   "source": [
    "## THANK YOU!"
   ]
  }
 ],
 "metadata": {
  "kernelspec": {
   "display_name": "Python 3 (ipykernel)",
   "language": "python",
   "name": "python3"
  },
  "language_info": {
   "codemirror_mode": {
    "name": "ipython",
    "version": 3
   },
   "file_extension": ".py",
   "mimetype": "text/x-python",
   "name": "python",
   "nbconvert_exporter": "python",
   "pygments_lexer": "ipython3",
   "version": "3.11.7"
  }
 },
 "nbformat": 4,
 "nbformat_minor": 5
}
